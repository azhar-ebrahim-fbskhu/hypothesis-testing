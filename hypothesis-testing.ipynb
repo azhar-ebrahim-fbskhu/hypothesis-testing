{
  "nbformat": 4,
  "nbformat_minor": 0,
  "metadata": {
    "colab": {
      "provenance": []
    },
    "kernelspec": {
      "name": "python3",
      "display_name": "Python 3"
    },
    "language_info": {
      "name": "python"
    }
  },
  "cells": [
    {
      "cell_type": "markdown",
      "source": [
        "# Group Comparisons"
      ],
      "metadata": {
        "id": "9rvRq_fEPZ1X"
      }
    },
    {
      "cell_type": "markdown",
      "source": [
        "This data records measurements of 1,034 professional baseball players, including their height, weight, and age at the time of measurement."
      ],
      "metadata": {
        "id": "t0tp6LD9Pj1o"
      }
    },
    {
      "cell_type": "code",
      "source": [
        "import pandas as pd\n",
        "import matplotlib.pyplot as plt\n",
        "\n",
        "mlb = pd.read_csv('mlb.csv')\n",
        "mlb.head()\n",
        "# mlb.shape  - (1034,6)"
      ],
      "metadata": {
        "colab": {
          "base_uri": "https://localhost:8080/",
          "height": 206
        },
        "id": "IElSw2etPpDS",
        "outputId": "463133cd-b702-44c8-f126-554a1d0ea8c4"
      },
      "execution_count": 14,
      "outputs": [
        {
          "output_type": "execute_result",
          "data": {
            "text/plain": [
              "              name team       position  height  weight    age\n",
              "0    Adam_Donachie  BAL        Catcher      74   180.0  22.99\n",
              "1        Paul_Bako  BAL        Catcher      74   215.0  34.69\n",
              "2  Ramon_Hernandez  BAL        Catcher      72   210.0  30.78\n",
              "3     Kevin_Millar  BAL  First_Baseman      72   210.0  35.43\n",
              "4      Chris_Gomez  BAL  First_Baseman      73   188.0  35.71"
            ],
            "text/html": [
              "\n",
              "  <div id=\"df-6dcdc259-08fb-4559-ae15-b6610863aa10\" class=\"colab-df-container\">\n",
              "    <div>\n",
              "<style scoped>\n",
              "    .dataframe tbody tr th:only-of-type {\n",
              "        vertical-align: middle;\n",
              "    }\n",
              "\n",
              "    .dataframe tbody tr th {\n",
              "        vertical-align: top;\n",
              "    }\n",
              "\n",
              "    .dataframe thead th {\n",
              "        text-align: right;\n",
              "    }\n",
              "</style>\n",
              "<table border=\"1\" class=\"dataframe\">\n",
              "  <thead>\n",
              "    <tr style=\"text-align: right;\">\n",
              "      <th></th>\n",
              "      <th>name</th>\n",
              "      <th>team</th>\n",
              "      <th>position</th>\n",
              "      <th>height</th>\n",
              "      <th>weight</th>\n",
              "      <th>age</th>\n",
              "    </tr>\n",
              "  </thead>\n",
              "  <tbody>\n",
              "    <tr>\n",
              "      <th>0</th>\n",
              "      <td>Adam_Donachie</td>\n",
              "      <td>BAL</td>\n",
              "      <td>Catcher</td>\n",
              "      <td>74</td>\n",
              "      <td>180.0</td>\n",
              "      <td>22.99</td>\n",
              "    </tr>\n",
              "    <tr>\n",
              "      <th>1</th>\n",
              "      <td>Paul_Bako</td>\n",
              "      <td>BAL</td>\n",
              "      <td>Catcher</td>\n",
              "      <td>74</td>\n",
              "      <td>215.0</td>\n",
              "      <td>34.69</td>\n",
              "    </tr>\n",
              "    <tr>\n",
              "      <th>2</th>\n",
              "      <td>Ramon_Hernandez</td>\n",
              "      <td>BAL</td>\n",
              "      <td>Catcher</td>\n",
              "      <td>72</td>\n",
              "      <td>210.0</td>\n",
              "      <td>30.78</td>\n",
              "    </tr>\n",
              "    <tr>\n",
              "      <th>3</th>\n",
              "      <td>Kevin_Millar</td>\n",
              "      <td>BAL</td>\n",
              "      <td>First_Baseman</td>\n",
              "      <td>72</td>\n",
              "      <td>210.0</td>\n",
              "      <td>35.43</td>\n",
              "    </tr>\n",
              "    <tr>\n",
              "      <th>4</th>\n",
              "      <td>Chris_Gomez</td>\n",
              "      <td>BAL</td>\n",
              "      <td>First_Baseman</td>\n",
              "      <td>73</td>\n",
              "      <td>188.0</td>\n",
              "      <td>35.71</td>\n",
              "    </tr>\n",
              "  </tbody>\n",
              "</table>\n",
              "</div>\n",
              "    <div class=\"colab-df-buttons\">\n",
              "\n",
              "  <div class=\"colab-df-container\">\n",
              "    <button class=\"colab-df-convert\" onclick=\"convertToInteractive('df-6dcdc259-08fb-4559-ae15-b6610863aa10')\"\n",
              "            title=\"Convert this dataframe to an interactive table.\"\n",
              "            style=\"display:none;\">\n",
              "\n",
              "  <svg xmlns=\"http://www.w3.org/2000/svg\" height=\"24px\" viewBox=\"0 -960 960 960\">\n",
              "    <path d=\"M120-120v-720h720v720H120Zm60-500h600v-160H180v160Zm220 220h160v-160H400v160Zm0 220h160v-160H400v160ZM180-400h160v-160H180v160Zm440 0h160v-160H620v160ZM180-180h160v-160H180v160Zm440 0h160v-160H620v160Z\"/>\n",
              "  </svg>\n",
              "    </button>\n",
              "\n",
              "  <style>\n",
              "    .colab-df-container {\n",
              "      display:flex;\n",
              "      gap: 12px;\n",
              "    }\n",
              "\n",
              "    .colab-df-convert {\n",
              "      background-color: #E8F0FE;\n",
              "      border: none;\n",
              "      border-radius: 50%;\n",
              "      cursor: pointer;\n",
              "      display: none;\n",
              "      fill: #1967D2;\n",
              "      height: 32px;\n",
              "      padding: 0 0 0 0;\n",
              "      width: 32px;\n",
              "    }\n",
              "\n",
              "    .colab-df-convert:hover {\n",
              "      background-color: #E2EBFA;\n",
              "      box-shadow: 0px 1px 2px rgba(60, 64, 67, 0.3), 0px 1px 3px 1px rgba(60, 64, 67, 0.15);\n",
              "      fill: #174EA6;\n",
              "    }\n",
              "\n",
              "    .colab-df-buttons div {\n",
              "      margin-bottom: 4px;\n",
              "    }\n",
              "\n",
              "    [theme=dark] .colab-df-convert {\n",
              "      background-color: #3B4455;\n",
              "      fill: #D2E3FC;\n",
              "    }\n",
              "\n",
              "    [theme=dark] .colab-df-convert:hover {\n",
              "      background-color: #434B5C;\n",
              "      box-shadow: 0px 1px 3px 1px rgba(0, 0, 0, 0.15);\n",
              "      filter: drop-shadow(0px 1px 2px rgba(0, 0, 0, 0.3));\n",
              "      fill: #FFFFFF;\n",
              "    }\n",
              "  </style>\n",
              "\n",
              "    <script>\n",
              "      const buttonEl =\n",
              "        document.querySelector('#df-6dcdc259-08fb-4559-ae15-b6610863aa10 button.colab-df-convert');\n",
              "      buttonEl.style.display =\n",
              "        google.colab.kernel.accessAllowed ? 'block' : 'none';\n",
              "\n",
              "      async function convertToInteractive(key) {\n",
              "        const element = document.querySelector('#df-6dcdc259-08fb-4559-ae15-b6610863aa10');\n",
              "        const dataTable =\n",
              "          await google.colab.kernel.invokeFunction('convertToInteractive',\n",
              "                                                    [key], {});\n",
              "        if (!dataTable) return;\n",
              "\n",
              "        const docLinkHtml = 'Like what you see? Visit the ' +\n",
              "          '<a target=\"_blank\" href=https://colab.research.google.com/notebooks/data_table.ipynb>data table notebook</a>'\n",
              "          + ' to learn more about interactive tables.';\n",
              "        element.innerHTML = '';\n",
              "        dataTable['output_type'] = 'display_data';\n",
              "        await google.colab.output.renderOutput(dataTable, element);\n",
              "        const docLink = document.createElement('div');\n",
              "        docLink.innerHTML = docLinkHtml;\n",
              "        element.appendChild(docLink);\n",
              "      }\n",
              "    </script>\n",
              "  </div>\n",
              "\n",
              "\n",
              "<div id=\"df-72fde5ea-deba-4d60-a834-de44a228c5c1\">\n",
              "  <button class=\"colab-df-quickchart\" onclick=\"quickchart('df-72fde5ea-deba-4d60-a834-de44a228c5c1')\"\n",
              "            title=\"Suggest charts\"\n",
              "            style=\"display:none;\">\n",
              "\n",
              "<svg xmlns=\"http://www.w3.org/2000/svg\" height=\"24px\"viewBox=\"0 0 24 24\"\n",
              "     width=\"24px\">\n",
              "    <g>\n",
              "        <path d=\"M19 3H5c-1.1 0-2 .9-2 2v14c0 1.1.9 2 2 2h14c1.1 0 2-.9 2-2V5c0-1.1-.9-2-2-2zM9 17H7v-7h2v7zm4 0h-2V7h2v10zm4 0h-2v-4h2v4z\"/>\n",
              "    </g>\n",
              "</svg>\n",
              "  </button>\n",
              "\n",
              "<style>\n",
              "  .colab-df-quickchart {\n",
              "      --bg-color: #E8F0FE;\n",
              "      --fill-color: #1967D2;\n",
              "      --hover-bg-color: #E2EBFA;\n",
              "      --hover-fill-color: #174EA6;\n",
              "      --disabled-fill-color: #AAA;\n",
              "      --disabled-bg-color: #DDD;\n",
              "  }\n",
              "\n",
              "  [theme=dark] .colab-df-quickchart {\n",
              "      --bg-color: #3B4455;\n",
              "      --fill-color: #D2E3FC;\n",
              "      --hover-bg-color: #434B5C;\n",
              "      --hover-fill-color: #FFFFFF;\n",
              "      --disabled-bg-color: #3B4455;\n",
              "      --disabled-fill-color: #666;\n",
              "  }\n",
              "\n",
              "  .colab-df-quickchart {\n",
              "    background-color: var(--bg-color);\n",
              "    border: none;\n",
              "    border-radius: 50%;\n",
              "    cursor: pointer;\n",
              "    display: none;\n",
              "    fill: var(--fill-color);\n",
              "    height: 32px;\n",
              "    padding: 0;\n",
              "    width: 32px;\n",
              "  }\n",
              "\n",
              "  .colab-df-quickchart:hover {\n",
              "    background-color: var(--hover-bg-color);\n",
              "    box-shadow: 0 1px 2px rgba(60, 64, 67, 0.3), 0 1px 3px 1px rgba(60, 64, 67, 0.15);\n",
              "    fill: var(--button-hover-fill-color);\n",
              "  }\n",
              "\n",
              "  .colab-df-quickchart-complete:disabled,\n",
              "  .colab-df-quickchart-complete:disabled:hover {\n",
              "    background-color: var(--disabled-bg-color);\n",
              "    fill: var(--disabled-fill-color);\n",
              "    box-shadow: none;\n",
              "  }\n",
              "\n",
              "  .colab-df-spinner {\n",
              "    border: 2px solid var(--fill-color);\n",
              "    border-color: transparent;\n",
              "    border-bottom-color: var(--fill-color);\n",
              "    animation:\n",
              "      spin 1s steps(1) infinite;\n",
              "  }\n",
              "\n",
              "  @keyframes spin {\n",
              "    0% {\n",
              "      border-color: transparent;\n",
              "      border-bottom-color: var(--fill-color);\n",
              "      border-left-color: var(--fill-color);\n",
              "    }\n",
              "    20% {\n",
              "      border-color: transparent;\n",
              "      border-left-color: var(--fill-color);\n",
              "      border-top-color: var(--fill-color);\n",
              "    }\n",
              "    30% {\n",
              "      border-color: transparent;\n",
              "      border-left-color: var(--fill-color);\n",
              "      border-top-color: var(--fill-color);\n",
              "      border-right-color: var(--fill-color);\n",
              "    }\n",
              "    40% {\n",
              "      border-color: transparent;\n",
              "      border-right-color: var(--fill-color);\n",
              "      border-top-color: var(--fill-color);\n",
              "    }\n",
              "    60% {\n",
              "      border-color: transparent;\n",
              "      border-right-color: var(--fill-color);\n",
              "    }\n",
              "    80% {\n",
              "      border-color: transparent;\n",
              "      border-right-color: var(--fill-color);\n",
              "      border-bottom-color: var(--fill-color);\n",
              "    }\n",
              "    90% {\n",
              "      border-color: transparent;\n",
              "      border-bottom-color: var(--fill-color);\n",
              "    }\n",
              "  }\n",
              "</style>\n",
              "\n",
              "  <script>\n",
              "    async function quickchart(key) {\n",
              "      const quickchartButtonEl =\n",
              "        document.querySelector('#' + key + ' button');\n",
              "      quickchartButtonEl.disabled = true;  // To prevent multiple clicks.\n",
              "      quickchartButtonEl.classList.add('colab-df-spinner');\n",
              "      try {\n",
              "        const charts = await google.colab.kernel.invokeFunction(\n",
              "            'suggestCharts', [key], {});\n",
              "      } catch (error) {\n",
              "        console.error('Error during call to suggestCharts:', error);\n",
              "      }\n",
              "      quickchartButtonEl.classList.remove('colab-df-spinner');\n",
              "      quickchartButtonEl.classList.add('colab-df-quickchart-complete');\n",
              "    }\n",
              "    (() => {\n",
              "      let quickchartButtonEl =\n",
              "        document.querySelector('#df-72fde5ea-deba-4d60-a834-de44a228c5c1 button');\n",
              "      quickchartButtonEl.style.display =\n",
              "        google.colab.kernel.accessAllowed ? 'block' : 'none';\n",
              "    })();\n",
              "  </script>\n",
              "</div>\n",
              "\n",
              "    </div>\n",
              "  </div>\n"
            ],
            "application/vnd.google.colaboratory.intrinsic+json": {
              "type": "dataframe",
              "summary": "{\n  \"name\": \"# mlb\",\n  \"rows\": 5,\n  \"fields\": [\n    {\n      \"column\": \"name\",\n      \"properties\": {\n        \"dtype\": \"string\",\n        \"num_unique_values\": 5,\n        \"samples\": [\n          \"Paul_Bako\",\n          \"Chris_Gomez\",\n          \"Ramon_Hernandez\"\n        ],\n        \"semantic_type\": \"\",\n        \"description\": \"\"\n      }\n    },\n    {\n      \"column\": \"team\",\n      \"properties\": {\n        \"dtype\": \"category\",\n        \"num_unique_values\": 1,\n        \"samples\": [\n          \"BAL\"\n        ],\n        \"semantic_type\": \"\",\n        \"description\": \"\"\n      }\n    },\n    {\n      \"column\": \"position\",\n      \"properties\": {\n        \"dtype\": \"category\",\n        \"num_unique_values\": 2,\n        \"samples\": [\n          \"First_Baseman\"\n        ],\n        \"semantic_type\": \"\",\n        \"description\": \"\"\n      }\n    },\n    {\n      \"column\": \"height\",\n      \"properties\": {\n        \"dtype\": \"number\",\n        \"std\": 1,\n        \"min\": 72,\n        \"max\": 74,\n        \"num_unique_values\": 3,\n        \"samples\": [\n          74\n        ],\n        \"semantic_type\": \"\",\n        \"description\": \"\"\n      }\n    },\n    {\n      \"column\": \"weight\",\n      \"properties\": {\n        \"dtype\": \"number\",\n        \"std\": 15.549919613940132,\n        \"min\": 180.0,\n        \"max\": 215.0,\n        \"num_unique_values\": 4,\n        \"samples\": [\n          215.0\n        ],\n        \"semantic_type\": \"\",\n        \"description\": \"\"\n      }\n    },\n    {\n      \"column\": \"age\",\n      \"properties\": {\n        \"dtype\": \"number\",\n        \"std\": 5.371256836160416,\n        \"min\": 22.99,\n        \"max\": 35.71,\n        \"num_unique_values\": 5,\n        \"samples\": [\n          34.69\n        ],\n        \"semantic_type\": \"\",\n        \"description\": \"\"\n      }\n    }\n  ]\n}"
            }
          },
          "metadata": {},
          "execution_count": 14
        }
      ]
    },
    {
      "cell_type": "markdown",
      "source": [
        "## Summary Statistics"
      ],
      "metadata": {
        "id": "oN-Vwc8mQN_d"
      }
    },
    {
      "cell_type": "code",
      "source": [
        "mlb.describe()"
      ],
      "metadata": {
        "colab": {
          "base_uri": "https://localhost:8080/",
          "height": 300
        },
        "id": "lR9HunwVQQqo",
        "outputId": "3bf3c4c9-d3a6-4e0f-c168-19ab17838cdb"
      },
      "execution_count": 15,
      "outputs": [
        {
          "output_type": "execute_result",
          "data": {
            "text/plain": [
              "            height       weight          age\n",
              "count  1034.000000  1033.000000  1034.000000\n",
              "mean     73.697292   201.689255    28.736712\n",
              "std       2.305818    20.991491     4.320310\n",
              "min      67.000000   150.000000    20.900000\n",
              "25%      72.000000   187.000000    25.440000\n",
              "50%      74.000000   200.000000    27.925000\n",
              "75%      75.000000   215.000000    31.232500\n",
              "max      83.000000   290.000000    48.520000"
            ],
            "text/html": [
              "\n",
              "  <div id=\"df-cd0835a8-71a2-4898-82c5-c40dcf1a4e9a\" class=\"colab-df-container\">\n",
              "    <div>\n",
              "<style scoped>\n",
              "    .dataframe tbody tr th:only-of-type {\n",
              "        vertical-align: middle;\n",
              "    }\n",
              "\n",
              "    .dataframe tbody tr th {\n",
              "        vertical-align: top;\n",
              "    }\n",
              "\n",
              "    .dataframe thead th {\n",
              "        text-align: right;\n",
              "    }\n",
              "</style>\n",
              "<table border=\"1\" class=\"dataframe\">\n",
              "  <thead>\n",
              "    <tr style=\"text-align: right;\">\n",
              "      <th></th>\n",
              "      <th>height</th>\n",
              "      <th>weight</th>\n",
              "      <th>age</th>\n",
              "    </tr>\n",
              "  </thead>\n",
              "  <tbody>\n",
              "    <tr>\n",
              "      <th>count</th>\n",
              "      <td>1034.000000</td>\n",
              "      <td>1033.000000</td>\n",
              "      <td>1034.000000</td>\n",
              "    </tr>\n",
              "    <tr>\n",
              "      <th>mean</th>\n",
              "      <td>73.697292</td>\n",
              "      <td>201.689255</td>\n",
              "      <td>28.736712</td>\n",
              "    </tr>\n",
              "    <tr>\n",
              "      <th>std</th>\n",
              "      <td>2.305818</td>\n",
              "      <td>20.991491</td>\n",
              "      <td>4.320310</td>\n",
              "    </tr>\n",
              "    <tr>\n",
              "      <th>min</th>\n",
              "      <td>67.000000</td>\n",
              "      <td>150.000000</td>\n",
              "      <td>20.900000</td>\n",
              "    </tr>\n",
              "    <tr>\n",
              "      <th>25%</th>\n",
              "      <td>72.000000</td>\n",
              "      <td>187.000000</td>\n",
              "      <td>25.440000</td>\n",
              "    </tr>\n",
              "    <tr>\n",
              "      <th>50%</th>\n",
              "      <td>74.000000</td>\n",
              "      <td>200.000000</td>\n",
              "      <td>27.925000</td>\n",
              "    </tr>\n",
              "    <tr>\n",
              "      <th>75%</th>\n",
              "      <td>75.000000</td>\n",
              "      <td>215.000000</td>\n",
              "      <td>31.232500</td>\n",
              "    </tr>\n",
              "    <tr>\n",
              "      <th>max</th>\n",
              "      <td>83.000000</td>\n",
              "      <td>290.000000</td>\n",
              "      <td>48.520000</td>\n",
              "    </tr>\n",
              "  </tbody>\n",
              "</table>\n",
              "</div>\n",
              "    <div class=\"colab-df-buttons\">\n",
              "\n",
              "  <div class=\"colab-df-container\">\n",
              "    <button class=\"colab-df-convert\" onclick=\"convertToInteractive('df-cd0835a8-71a2-4898-82c5-c40dcf1a4e9a')\"\n",
              "            title=\"Convert this dataframe to an interactive table.\"\n",
              "            style=\"display:none;\">\n",
              "\n",
              "  <svg xmlns=\"http://www.w3.org/2000/svg\" height=\"24px\" viewBox=\"0 -960 960 960\">\n",
              "    <path d=\"M120-120v-720h720v720H120Zm60-500h600v-160H180v160Zm220 220h160v-160H400v160Zm0 220h160v-160H400v160ZM180-400h160v-160H180v160Zm440 0h160v-160H620v160ZM180-180h160v-160H180v160Zm440 0h160v-160H620v160Z\"/>\n",
              "  </svg>\n",
              "    </button>\n",
              "\n",
              "  <style>\n",
              "    .colab-df-container {\n",
              "      display:flex;\n",
              "      gap: 12px;\n",
              "    }\n",
              "\n",
              "    .colab-df-convert {\n",
              "      background-color: #E8F0FE;\n",
              "      border: none;\n",
              "      border-radius: 50%;\n",
              "      cursor: pointer;\n",
              "      display: none;\n",
              "      fill: #1967D2;\n",
              "      height: 32px;\n",
              "      padding: 0 0 0 0;\n",
              "      width: 32px;\n",
              "    }\n",
              "\n",
              "    .colab-df-convert:hover {\n",
              "      background-color: #E2EBFA;\n",
              "      box-shadow: 0px 1px 2px rgba(60, 64, 67, 0.3), 0px 1px 3px 1px rgba(60, 64, 67, 0.15);\n",
              "      fill: #174EA6;\n",
              "    }\n",
              "\n",
              "    .colab-df-buttons div {\n",
              "      margin-bottom: 4px;\n",
              "    }\n",
              "\n",
              "    [theme=dark] .colab-df-convert {\n",
              "      background-color: #3B4455;\n",
              "      fill: #D2E3FC;\n",
              "    }\n",
              "\n",
              "    [theme=dark] .colab-df-convert:hover {\n",
              "      background-color: #434B5C;\n",
              "      box-shadow: 0px 1px 3px 1px rgba(0, 0, 0, 0.15);\n",
              "      filter: drop-shadow(0px 1px 2px rgba(0, 0, 0, 0.3));\n",
              "      fill: #FFFFFF;\n",
              "    }\n",
              "  </style>\n",
              "\n",
              "    <script>\n",
              "      const buttonEl =\n",
              "        document.querySelector('#df-cd0835a8-71a2-4898-82c5-c40dcf1a4e9a button.colab-df-convert');\n",
              "      buttonEl.style.display =\n",
              "        google.colab.kernel.accessAllowed ? 'block' : 'none';\n",
              "\n",
              "      async function convertToInteractive(key) {\n",
              "        const element = document.querySelector('#df-cd0835a8-71a2-4898-82c5-c40dcf1a4e9a');\n",
              "        const dataTable =\n",
              "          await google.colab.kernel.invokeFunction('convertToInteractive',\n",
              "                                                    [key], {});\n",
              "        if (!dataTable) return;\n",
              "\n",
              "        const docLinkHtml = 'Like what you see? Visit the ' +\n",
              "          '<a target=\"_blank\" href=https://colab.research.google.com/notebooks/data_table.ipynb>data table notebook</a>'\n",
              "          + ' to learn more about interactive tables.';\n",
              "        element.innerHTML = '';\n",
              "        dataTable['output_type'] = 'display_data';\n",
              "        await google.colab.output.renderOutput(dataTable, element);\n",
              "        const docLink = document.createElement('div');\n",
              "        docLink.innerHTML = docLinkHtml;\n",
              "        element.appendChild(docLink);\n",
              "      }\n",
              "    </script>\n",
              "  </div>\n",
              "\n",
              "\n",
              "<div id=\"df-6352e97b-a6ab-4b5f-816a-892a9f44b447\">\n",
              "  <button class=\"colab-df-quickchart\" onclick=\"quickchart('df-6352e97b-a6ab-4b5f-816a-892a9f44b447')\"\n",
              "            title=\"Suggest charts\"\n",
              "            style=\"display:none;\">\n",
              "\n",
              "<svg xmlns=\"http://www.w3.org/2000/svg\" height=\"24px\"viewBox=\"0 0 24 24\"\n",
              "     width=\"24px\">\n",
              "    <g>\n",
              "        <path d=\"M19 3H5c-1.1 0-2 .9-2 2v14c0 1.1.9 2 2 2h14c1.1 0 2-.9 2-2V5c0-1.1-.9-2-2-2zM9 17H7v-7h2v7zm4 0h-2V7h2v10zm4 0h-2v-4h2v4z\"/>\n",
              "    </g>\n",
              "</svg>\n",
              "  </button>\n",
              "\n",
              "<style>\n",
              "  .colab-df-quickchart {\n",
              "      --bg-color: #E8F0FE;\n",
              "      --fill-color: #1967D2;\n",
              "      --hover-bg-color: #E2EBFA;\n",
              "      --hover-fill-color: #174EA6;\n",
              "      --disabled-fill-color: #AAA;\n",
              "      --disabled-bg-color: #DDD;\n",
              "  }\n",
              "\n",
              "  [theme=dark] .colab-df-quickchart {\n",
              "      --bg-color: #3B4455;\n",
              "      --fill-color: #D2E3FC;\n",
              "      --hover-bg-color: #434B5C;\n",
              "      --hover-fill-color: #FFFFFF;\n",
              "      --disabled-bg-color: #3B4455;\n",
              "      --disabled-fill-color: #666;\n",
              "  }\n",
              "\n",
              "  .colab-df-quickchart {\n",
              "    background-color: var(--bg-color);\n",
              "    border: none;\n",
              "    border-radius: 50%;\n",
              "    cursor: pointer;\n",
              "    display: none;\n",
              "    fill: var(--fill-color);\n",
              "    height: 32px;\n",
              "    padding: 0;\n",
              "    width: 32px;\n",
              "  }\n",
              "\n",
              "  .colab-df-quickchart:hover {\n",
              "    background-color: var(--hover-bg-color);\n",
              "    box-shadow: 0 1px 2px rgba(60, 64, 67, 0.3), 0 1px 3px 1px rgba(60, 64, 67, 0.15);\n",
              "    fill: var(--button-hover-fill-color);\n",
              "  }\n",
              "\n",
              "  .colab-df-quickchart-complete:disabled,\n",
              "  .colab-df-quickchart-complete:disabled:hover {\n",
              "    background-color: var(--disabled-bg-color);\n",
              "    fill: var(--disabled-fill-color);\n",
              "    box-shadow: none;\n",
              "  }\n",
              "\n",
              "  .colab-df-spinner {\n",
              "    border: 2px solid var(--fill-color);\n",
              "    border-color: transparent;\n",
              "    border-bottom-color: var(--fill-color);\n",
              "    animation:\n",
              "      spin 1s steps(1) infinite;\n",
              "  }\n",
              "\n",
              "  @keyframes spin {\n",
              "    0% {\n",
              "      border-color: transparent;\n",
              "      border-bottom-color: var(--fill-color);\n",
              "      border-left-color: var(--fill-color);\n",
              "    }\n",
              "    20% {\n",
              "      border-color: transparent;\n",
              "      border-left-color: var(--fill-color);\n",
              "      border-top-color: var(--fill-color);\n",
              "    }\n",
              "    30% {\n",
              "      border-color: transparent;\n",
              "      border-left-color: var(--fill-color);\n",
              "      border-top-color: var(--fill-color);\n",
              "      border-right-color: var(--fill-color);\n",
              "    }\n",
              "    40% {\n",
              "      border-color: transparent;\n",
              "      border-right-color: var(--fill-color);\n",
              "      border-top-color: var(--fill-color);\n",
              "    }\n",
              "    60% {\n",
              "      border-color: transparent;\n",
              "      border-right-color: var(--fill-color);\n",
              "    }\n",
              "    80% {\n",
              "      border-color: transparent;\n",
              "      border-right-color: var(--fill-color);\n",
              "      border-bottom-color: var(--fill-color);\n",
              "    }\n",
              "    90% {\n",
              "      border-color: transparent;\n",
              "      border-bottom-color: var(--fill-color);\n",
              "    }\n",
              "  }\n",
              "</style>\n",
              "\n",
              "  <script>\n",
              "    async function quickchart(key) {\n",
              "      const quickchartButtonEl =\n",
              "        document.querySelector('#' + key + ' button');\n",
              "      quickchartButtonEl.disabled = true;  // To prevent multiple clicks.\n",
              "      quickchartButtonEl.classList.add('colab-df-spinner');\n",
              "      try {\n",
              "        const charts = await google.colab.kernel.invokeFunction(\n",
              "            'suggestCharts', [key], {});\n",
              "      } catch (error) {\n",
              "        console.error('Error during call to suggestCharts:', error);\n",
              "      }\n",
              "      quickchartButtonEl.classList.remove('colab-df-spinner');\n",
              "      quickchartButtonEl.classList.add('colab-df-quickchart-complete');\n",
              "    }\n",
              "    (() => {\n",
              "      let quickchartButtonEl =\n",
              "        document.querySelector('#df-6352e97b-a6ab-4b5f-816a-892a9f44b447 button');\n",
              "      quickchartButtonEl.style.display =\n",
              "        google.colab.kernel.accessAllowed ? 'block' : 'none';\n",
              "    })();\n",
              "  </script>\n",
              "</div>\n",
              "\n",
              "    </div>\n",
              "  </div>\n"
            ],
            "application/vnd.google.colaboratory.intrinsic+json": {
              "type": "dataframe",
              "summary": "{\n  \"name\": \"mlb\",\n  \"rows\": 8,\n  \"fields\": [\n    {\n      \"column\": \"height\",\n      \"properties\": {\n        \"dtype\": \"number\",\n        \"std\": 343.9444164057862,\n        \"min\": 2.305818310517566,\n        \"max\": 1034.0,\n        \"num_unique_values\": 8,\n        \"samples\": [\n          73.6972920696325,\n          74.0,\n          1034.0\n        ],\n        \"semantic_type\": \"\",\n        \"description\": \"\"\n      }\n    },\n    {\n      \"column\": \"weight\",\n      \"properties\": {\n        \"dtype\": \"number\",\n        \"std\": 310.77899753219646,\n        \"min\": 20.991490771549664,\n        \"max\": 1033.0,\n        \"num_unique_values\": 8,\n        \"samples\": [\n          201.6892545982575,\n          200.0,\n          1033.0\n        ],\n        \"semantic_type\": \"\",\n        \"description\": \"\"\n      }\n    },\n    {\n      \"column\": \"age\",\n      \"properties\": {\n        \"dtype\": \"number\",\n        \"std\": 356.33372377196883,\n        \"min\": 4.320310037379978,\n        \"max\": 1034.0,\n        \"num_unique_values\": 8,\n        \"samples\": [\n          28.736711798839462,\n          27.925,\n          1034.0\n        ],\n        \"semantic_type\": \"\",\n        \"description\": \"\"\n      }\n    }\n  ]\n}"
            }
          },
          "metadata": {},
          "execution_count": 15
        }
      ]
    },
    {
      "cell_type": "markdown",
      "source": [
        "## Boxplot - Heights"
      ],
      "metadata": {
        "id": "m92ivUDkQcnA"
      }
    },
    {
      "cell_type": "code",
      "source": [
        "fig1, ax1 = plt.subplots()\n",
        "ax1.boxplot(mlb['height'])\n",
        "ax1.set_ylabel('Height (Inches)')\n",
        "plt.title('MLB Player Heights')\n",
        "plt.xticks([1], ['Full Population'])\n",
        "plt.show()"
      ],
      "metadata": {
        "colab": {
          "base_uri": "https://localhost:8080/",
          "height": 452
        },
        "id": "Qn2MeWiwR6UI",
        "outputId": "ef0f82f0-5b98-48c6-88a2-65af9f841238"
      },
      "execution_count": 16,
      "outputs": [
        {
          "output_type": "display_data",
          "data": {
            "text/plain": [
              "<Figure size 640x480 with 1 Axes>"
            ],
            "image/png": "[encoded data removed]"
          },
          "metadata": {}
        }
      ]
    },
    {
      "cell_type": "markdown",
      "source": [
        "Here, we can see that the minimum value of height in the data is around 67, and the maximum is around 83. The median (the horizontal line in the middle of the box) is around 74 inches. We can see that Matplotlib regards several of the points as outliers, and that’s why they’re drawn as circles beyond the range of the vertical lines extending from the top and bottom of the box."
      ],
      "metadata": {
        "id": "Qnn_4n81TCM8"
      }
    },
    {
      "cell_type": "markdown",
      "source": [
        "## Random Samples"
      ],
      "metadata": {
        "id": "gPT9FhZhTTBc"
      }
    },
    {
      "cell_type": "markdown",
      "source": [
        "The best way to collect a sample that resembles the full population is to take a random sample. By selecting randomly from a full population, you expect to have equal likelihood of selecting eachdifferent type of person."
      ],
      "metadata": {
        "id": "WkHjt2uTXwWE"
      }
    },
    {
      "cell_type": "code",
      "source": [
        "sample1 = mlb.sample(n=30, random_state=8675309)\n",
        "sample2 = mlb.sample(n=30, random_state=1729)\n",
        "print(sample1)"
      ],
      "metadata": {
        "colab": {
          "base_uri": "https://localhost:8080/"
        },
        "id": "cFueWEXqX02l",
        "outputId": "78e28042-4775-471e-e7bf-9fc560f72893"
      },
      "execution_count": 17,
      "outputs": [
        {
          "output_type": "stream",
          "name": "stdout",
          "text": [
            "                  name team          position  height  weight    age\n",
            "622   Brandon_Phillips  CIN    Second_Baseman      71   185.0  25.67\n",
            "682       Manny_Corpas  COL    Relief_Pitcher      75   170.0  24.24\n",
            "561         Tony_Clark  ARZ     First_Baseman      79   245.0  34.71\n",
            "687     Jeremy_Affeldt  COL    Relief_Pitcher      76   215.0  27.73\n",
            "75      Howie_Kendrick  ANA     First_Baseman      70   180.0  23.64\n",
            "379        David_Riske   KC    Relief_Pitcher      74   190.0  30.35\n",
            "473        Boof_Bonser  MIN  Starting_Pitcher      76   260.0  25.38\n",
            "568     Carlos_Quentin  ARZ        Outfielder      73   225.0  24.51\n",
            "8          Aubrey_Huff  BAL     Third_Baseman      76   231.0  30.19\n",
            "444         Jean_Machi  TOR    Relief_Pitcher      72   160.0  24.08\n",
            "172        Matt_Miller  CLE    Relief_Pitcher      75   215.0  35.27\n",
            "627     Jeff_Keppinger  CIN     Third_Baseman      72   180.0  26.86\n",
            "871      Paul_McAnulty   SD        Outfielder      70   220.0  26.01\n",
            "911      Austin_Kearns  WAS        Outfielder      75   220.0  26.78\n",
            "626  Edwin_Encarnacion  CIN     Third_Baseman      73   195.0  24.15\n",
            "750     Miguel_Asencio  HOU    Relief_Pitcher      74   190.0  26.42\n",
            "559      Conor_Jackson  ARZ     First_Baseman      74   225.0  24.82\n",
            "661     Garrett_Atkins  COL     Third_Baseman      75   210.0  27.22\n",
            "280        Rene_Rivera  SEA           Catcher      70   190.0  23.58\n",
            "212         Wil_Nieves  NYY           Catcher      71   190.0  29.43\n",
            "821  Antonio_Alfonseca  PHI    Relief_Pitcher      77   250.0  34.87\n",
            "400    Edinson_Volquez  TEX  Starting_Pitcher      73   190.0  23.66\n",
            "175      Jason_Kendall  OAK           Catcher      72   195.0  32.68\n",
            "548         Mark_Prior  CHC  Starting_Pitcher      77   230.0  26.48\n",
            "74        Robb_Quinlan  ANA     First_Baseman      73   200.0  29.95\n",
            "619         David_Ross  CIN           Catcher      74   205.0  29.95\n",
            "736       Adam_Everett  HOU         Shortstop      72   170.0  30.06\n",
            "323     Rocco_Baldelli   TB        Outfielder      76   187.0  25.43\n",
            "674         Aaron_Cook  COL  Starting_Pitcher      75   205.0  28.06\n",
            "587        Mike_Jacobs  FLA     First_Baseman      74   180.0  26.33\n"
          ]
        }
      ]
    },
    {
      "cell_type": "code",
      "source": [
        "sample3=[71, 72, 73, 74, 74, 76, 75, 75, 75, 76, 75, 77, 76, 75, 77, 76, 75, 76, 76, 75, 75, 81,77, 75, 77, 75, 77, 77, 75, 75]\n",
        "print(sample3)"
      ],
      "metadata": {
        "colab": {
          "base_uri": "https://localhost:8080/"
        },
        "id": "Xh6w9EgZbg28",
        "outputId": "6395a7dc-ff88-4e24-c3e7-7bf639edc0ba"
      },
      "execution_count": 18,
      "outputs": [
        {
          "output_type": "stream",
          "name": "stdout",
          "text": [
            "[71, 72, 73, 74, 74, 76, 75, 75, 75, 76, 75, 77, 76, 75, 77, 76, 75, 76, 76, 75, 75, 81, 77, 75, 77, 75, 77, 77, 75, 75]\n"
          ]
        }
      ]
    },
    {
      "cell_type": "markdown",
      "source": [
        "Let’s look at a plot of these samples to see whether they resemble each other\n",
        "and the full populatio"
      ],
      "metadata": {
        "id": "_dUwvOzIcFfw"
      }
    },
    {
      "cell_type": "code",
      "source": [
        "import numpy as np\n",
        "\n",
        "fig1, ax1 = plt.subplots()\n",
        "ax1.boxplot([mlb['height'], sample1['height'], sample2['height'], np.array(sample3)])\n",
        "ax1.set_ylabel('Height')\n",
        "plt.title(\"MLB Player Heights\")\n",
        "plt.xticks([1,2,3,4], ['Full Population', 'Sample1', 'Sample 2', 'Sample 3'])\n",
        "plt.show()"
      ],
      "metadata": {
        "colab": {
          "base_uri": "https://localhost:8080/",
          "height": 452
        },
        "id": "Xr2wrm50cHvE",
        "outputId": "8c511b32-dc55-4113-ad4c-85bbb77a39c8"
      },
      "execution_count": 19,
      "outputs": [
        {
          "output_type": "display_data",
          "data": {
            "text/plain": [
              "<Figure size 640x480 with 1 Axes>"
            ],
            "image/png": "[encoded data removed]"
          },
          "metadata": {}
        }
      ]
    },
    {
      "cell_type": "markdown",
      "source": [
        "We plot four datasets: the distribution of heights of the full\n",
        "population and the distribution of heights of all three samples separately"
      ],
      "metadata": {
        "id": "stgt2YTEdU4u"
      }
    },
    {
      "cell_type": "markdown",
      "source": [
        "The similarity in the first three box plots should match your intuition: when we take large enough random samples from a population, the samples should resemble the population and should resemble one another. We can also check simple summary statistics related to each sample, like the mean:\n"
      ],
      "metadata": {
        "id": "2HPRnJ_VdpCU"
      }
    },
    {
      "cell_type": "code",
      "source": [
        "print(np.mean(mlb['height'])) # expected value\n",
        "print(np.mean(sample1['height']))\n",
        "print(np.mean(sample2['height']))\n",
        "print(np.mean(sample3))"
      ],
      "metadata": {
        "colab": {
          "base_uri": "https://localhost:8080/"
        },
        "id": "AzJyzVXCdvHX",
        "outputId": "86b1c115-7e16-417b-d65d-26cb5e4ac65c"
      },
      "execution_count": 20,
      "outputs": [
        {
          "output_type": "stream",
          "name": "stdout",
          "text": [
            "73.6972920696325\n",
            "73.8\n",
            "74.36666666666666\n",
            "75.43333333333334\n"
          ]
        }
      ]
    },
    {
      "cell_type": "markdown",
      "source": [
        "## Differences Between Sample Data\n",
        "\n",
        "differences between:\n",
        "\n",
        "sample1 and sample2 = 0.6 inches\n",
        "sample1 and sample3 = 1.6 inches\n",
        "\n",
        "Do we believe sample3 is a random sample from the same population as sample1 and sample2?\n",
        "\n",
        "We need a method more reliable than intuition to say, for example, that a difference of 0.6 inches between sample means is plausible or probable, while a difference of 1.6 inches between sample means makes it implausible that the samples come from the same population\n",
        "\n",
        "How big of a difference between sample means would make it implausible that two samples come from the same population?\n",
        "\n",
        "To answer this question, we need to understand the size differences we should\n",
        "expect between random samples from our population. So far, we’ve looked at\n",
        "only two random samples from our population. Instead of trying to generalize\n",
        "based on only two samples, let’s look at a large collection of samples and see\n",
        "how much they tend to differ from one another. This will help us understand\n",
        "which variations are plausible and which variations are implausible."
      ],
      "metadata": {
        "id": "n-qWsWjoedxg"
      }
    },
    {
      "cell_type": "code",
      "source": [
        "# code to get a collection of 2,000 sample means and their differences:\n",
        "\n",
        "alldifferences = []\n",
        "\n",
        "for i in range(1000):\n",
        "  newsample1 = mlb.sample(n=30, random_state=i*2)\n",
        "  newsample2 = mlb.sample(n=30, random_state=i*2+1)\n",
        "\n",
        "  alldifferences.append(newsample1['height'].mean() - newsample2['height'].mean())\n",
        "\n",
        "print(alldifferences[0:10])"
      ],
      "metadata": {
        "colab": {
          "base_uri": "https://localhost:8080/"
        },
        "id": "m-VUSMvfy02h",
        "outputId": "9cb49a1e-2acd-45a9-e62c-370fe9fe12af"
      },
      "execution_count": 21,
      "outputs": [
        {
          "output_type": "stream",
          "name": "stdout",
          "text": [
            "[0.8333333333333286, -0.30000000000001137, -0.10000000000000853, -0.1666666666666572, 0.06666666666667709, -0.9666666666666686, 0.7999999999999972, 0.9333333333333371, -0.5333333333333314, -0.20000000000000284]\n"
          ]
        }
      ]
    },
    {
      "cell_type": "markdown",
      "source": [
        "You can see that the first two samples we checked have means that are about\n",
        "0.83 inches apart. The second pair of samples has means that are about 0.3\n",
        "inches apart. The sixth pair of samples has means that are almost a full inch apart\n",
        "from each other (about –0.97 inches), while the fifth pair of samples has means\n",
        "that are nearly identical, only about 0.07 inches apart."
      ],
      "metadata": {
        "id": "pIIhkbT5rU-y"
      }
    },
    {
      "cell_type": "markdown",
      "source": [
        "Looking at these 10 numbers, we can see that 0.6 is not an implausible difference between two samples from our population, since several of our first 10 differences are greater in magnitude than 0.6. However, none of the differences we’ve seen so far are greater than 1 inch in magnitude, so 1.6 inches is starting to seem more implausible."
      ],
      "metadata": {
        "id": "VWeFhkMU1QtY"
      }
    },
    {
      "cell_type": "markdown",
      "source": [
        "We can see a fuller representation of our 1,000 differences by drawing a plot\n",
        "of the all differences list:"
      ],
      "metadata": {
        "id": "ktdubbhd1fhV"
      }
    },
    {
      "cell_type": "code",
      "source": [
        "import seaborn as sns\n",
        "\n",
        "ax = sns.histplot(alldifferences, kde=True)\n",
        "\n",
        "ax.set_title('Differences Between Sample Means')\n",
        "ax.set_ylabel('Relative Frequency')\n",
        "ax.set_xlabel('Differences between means (inches)')\n",
        "plt.show()"
      ],
      "metadata": {
        "colab": {
          "base_uri": "https://localhost:8080/",
          "height": 472
        },
        "id": "w9WgI8zn1lIH",
        "outputId": "1eb6e74e-3958-4ed6-8b20-928d30699225"
      },
      "execution_count": 22,
      "outputs": [
        {
          "output_type": "display_data",
          "data": {
            "text/plain": [
              "<Figure size 640x480 with 1 Axes>"
            ],
            "image/png": "[encoded data removed]"
          },
          "metadata": {}
        }
      ]
    },
    {
      "cell_type": "markdown",
      "source": [
        "One powerful theoretical result in statistics is called the central limit theorem, and it states that under a certain set of common conditions, differences between means of samples will be distributed in a shape\n",
        "that’s approximately a bell curve. The technical conditions that make this\n",
        "theorem true are that the random samples are independent and identically\n",
        "distributed (that is, random draws from the same population) and that the\n",
        "population has a finite expected value and a finite variance. The fact that we see approximate bell curves in so many domains provides evidence that these\n",
        "technical conditions are often met."
      ],
      "metadata": {
        "id": "B-S-fiUtDidg"
      }
    },
    {
      "cell_type": "markdown",
      "source": [
        "Given what we know so far, do we believe that sample3 is a random sample from our population of baseball players? We saw that the difference between the mean of sample3 and the mean of sample1 is about 1.6 inches. When we look at Figure 3-3, we can see that the bell curve is extremely low there, close to 0. This means that random samples from our population only rarely differ by as much as 1.6 inches. This makes it seem relatively implausible that sample3 is a random sample from our baseball player population. We can find out how implausible it is by checking exactly how many of our differences have magnitude greater than or equal to 1.6 inches:\n"
      ],
      "metadata": {
        "id": "9WINg9OyNYiS"
      }
    },
    {
      "cell_type": "code",
      "source": [
        "largedifferences = [diff for diff in alldifferences if abs(diff) >= 1.6]\n",
        "print(len(largedifferences))"
      ],
      "metadata": {
        "colab": {
          "base_uri": "https://localhost:8080/"
        },
        "id": "3YgIBO-QNiu2",
        "outputId": "afd83dae-4e83-47d8-ebdc-1558f480ea90"
      },
      "execution_count": 23,
      "outputs": [
        {
          "output_type": "stream",
          "name": "stdout",
          "text": [
            "8\n"
          ]
        }
      ]
    },
    {
      "cell_type": "markdown",
      "source": [
        "p-value = 8/1000 = 0.8 percent (probability that the mean heights of two random samples from the mlb population differ by 1.6 inches or more)"
      ],
      "metadata": {
        "id": "XwgvvXsBtIw5"
      }
    },
    {
      "cell_type": "markdown",
      "source": [
        "We find that the list has only eight elements, meaning random samples from our mlb population have means that differ by 1.6 or more only about 8 in 1,000 times, or 0.8 percent of the time. This value, 0.8 percent or 0.008, is a calculated likelihood. We can think of it as our best estimate of the probability that the mean heights of two random samples from the mlb population differ by 1.6 inches or more. This probability is often called a p-value, where p is short for probability."
      ],
      "metadata": {
        "id": "ZsesQkk-OMzi"
      }
    },
    {
      "cell_type": "markdown",
      "source": [
        "The low p-value causes us to reject the\n",
        "notion that these two groups come from the same population. The lower the pvalue, the more confident we feel about rejecting the notion that the groups come\n",
        "from the same population, because low p-values require us to believe in more\n",
        "and more unlikely coincidences. By contrast, consider how common it is that\n",
        "differences between sample means from our population are 0.6 inches or more"
      ],
      "metadata": {
        "id": "QFthS_DitpVE"
      }
    },
    {
      "cell_type": "code",
      "source": [
        "smalldifferences = [diff for diff in alldifferences if abs(diff) >= 0.6]\n",
        "print(len(smalldifferences)) # number of differences between sample means that have a difference greater than 0.6 inches"
      ],
      "metadata": {
        "colab": {
          "base_uri": "https://localhost:8080/"
        },
        "id": "AgeM6vfUtrJe",
        "outputId": "334177a2-4063-4a72-fbd9-4d340a499f1e"
      },
      "execution_count": 24,
      "outputs": [
        {
          "output_type": "stream",
          "name": "stdout",
          "text": [
            "314\n"
          ]
        }
      ]
    },
    {
      "cell_type": "markdown",
      "source": [
        "So a difference of this magnitude occur 31.4 percent of the time (314/1000)\n",
        "p-value is 0.314"
      ],
      "metadata": {
        "id": "Fz63MsIZuNzY"
      }
    },
    {
      "cell_type": "markdown",
      "source": [
        "If sample1 and sample2 come\n",
        "from the same population, we would have to believe that this size of difference,\n",
        "which occurs about 31 percent of the time, occurred in our case. It’s not hard to\n",
        "believe that something with 31 percent probability occurred, so we conclude that\n",
        "the difference between sample1 and sample2 is plausible; we’re willing to accept\n",
        "that, though not identical, they’re random samples from the same population."
      ],
      "metadata": {
        "id": "xxMCXdtUut7x"
      }
    },
    {
      "cell_type": "markdown",
      "source": [
        "## Performing Hypothesis Testing\n",
        "\n",
        "- Hypothesis 0 (null hypothesis) - sample1 and sample3 are random samples from the same\n",
        "population.\n",
        "- Hypothesis 1 (alternative hypothesis) - sample1 and sample3 are not random samples from the same\n",
        "population.\n"
      ],
      "metadata": {
        "id": "2eV1fVSSuy0H"
      }
    },
    {
      "cell_type": "markdown",
      "source": [
        "Assume that Hypothesis 0, the null hypothesis, is true.\n",
        "Find how likely we are to observe sample means that differ by as much as our\n",
        "observed sample means, assuming that Hypothesis 0 is true. The likelihood of\n",
        "this occurring is called the p-value.\n",
        "If the p-value is small enough, we reject Hypothesis 0, and we’re therefore\n",
        "willing to accept Hypothesis 1."
      ],
      "metadata": {
        "id": "k3bzkk4HvjRs"
      }
    },
    {
      "cell_type": "markdown",
      "source": [
        "We can choose whatever level of smallness we think is appropriate to\n",
        "justify rejecting Hypothesis 0, based on our own judgment and intuitions. The p- value size that we believe justifies rejecting Hypothesis 0 is called the\n",
        "*significance level*.\n",
        "\n",
        "The most common significance level used in empirical research is 5 percent,\n",
        "meaning that we consider the rejection of the null hypothesis justified if p <\n",
        "0.05. In the case of sample1 and sample3, we can justify rejecting Hypothesis 0\n",
        "at a significance level as low as 1 percent, because we found p < 0.01. When we\n",
        "find a p-value that’s less than our chosen significance level, we say that the\n",
        "difference between our groups is statistically significant.\n",
        "\n",
        "The recommended practice is to choose the significance level that we want to use before we do any calculations; that way, we avoid the temptation to choose a significance level that confirms whichever hypothesis we want to be confirmed.\n"
      ],
      "metadata": {
        "id": "icvHSDV3v_yB"
      }
    },
    {
      "cell_type": "markdown",
      "source": [
        "## The t-Test"
      ],
      "metadata": {
        "id": "7KBtlZqLwS9D"
      }
    },
    {
      "cell_type": "markdown",
      "source": [
        "We don’t have to go through the whole process of calculating means, creating a\n",
        "histogram, and manually calculating p-values every time we want to do\n",
        "hypothesis testing. Statisticians have discovered succinct equations that define\n",
        "how likely two groups are to come from the same population. They’ve created a\n",
        "relatively simple test called a t-test that does the process of hypothesis testing quickly and painlessly, without requiring a for loop or a histogram."
      ],
      "metadata": {
        "id": "mQ1Ws4pmwsXX"
      }
    },
    {
      "cell_type": "code",
      "source": [
        "import scipy.stats\n",
        "scipy.stats.ttest_ind(sample1['height'], sample2['height'])"
      ],
      "metadata": {
        "colab": {
          "base_uri": "https://localhost:8080/"
        },
        "id": "8KFx6dvkwvin",
        "outputId": "673f5dd5-6b00-40e3-eec8-90f014a31858"
      },
      "execution_count": 25,
      "outputs": [
        {
          "output_type": "execute_result",
          "data": {
            "text/plain": [
              "TtestResult(statistic=-1.0839563860213952, pvalue=0.2828695892305152, df=58.0)"
            ]
          },
          "metadata": {},
          "execution_count": 25
        }
      ]
    },
    {
      "cell_type": "markdown",
      "source": [
        "It differs a little from the 0.314 p-value we calculated earlier because that p-value calculation method was an approximate method, and this one is more mathematically exact."
      ],
      "metadata": {
        "id": "bgs38qMgxZBZ"
      }
    },
    {
      "cell_type": "markdown",
      "source": [
        "## Mann-Whitney U test (or Wilcoxon rank-sum test)"
      ],
      "metadata": {
        "id": "w9QR9WNfx8tX"
      }
    },
    {
      "cell_type": "markdown",
      "source": [
        "In some cases, we’d prefer to perform hypothesis testing with a test that didn’t\n",
        "make these strong assumptions that may not be true. If so, we can rely on a body\n",
        "of knowledge called nonparametric statistics, which provides tools for\n",
        "hypothesis testing and other statistical reasoning that make fewer assumptions\n",
        "about the distribution of our data (for example, we don’t need to work with\n",
        "populations whose sample means follow bell curves). One hypothesis test from\n",
        "nonparametric statistics is called the Mann-Whitney U test (or the Wilcoxon\n",
        "rank-sum test), and we can implement it easily in Python as follows:"
      ],
      "metadata": {
        "id": "ZBZKAvk6yiAJ"
      }
    },
    {
      "cell_type": "code",
      "source": [
        "scipy.stats.mannwhitneyu(sample1['height'], sample2['height'])\n"
      ],
      "metadata": {
        "colab": {
          "base_uri": "https://localhost:8080/"
        },
        "id": "qQlnebtCyGlv",
        "outputId": "94a4ddfc-6928-4503-ec01-64fdd0d48610"
      },
      "execution_count": 26,
      "outputs": [
        {
          "output_type": "execute_result",
          "data": {
            "text/plain": [
              "MannwhitneyuResult(statistic=392.0, pvalue=0.38913738408151577)"
            ]
          },
          "metadata": {},
          "execution_count": 26
        }
      ]
    },
    {
      "cell_type": "markdown",
      "source": [
        "## Nuances of Hypothesis Testing\n",
        "\n"
      ],
      "metadata": {
        "id": "_KEzsNKmznfv"
      }
    },
    {
      "cell_type": "markdown",
      "source": [
        "One important point to remember is what a p-value tells you: it tells you the\n",
        "likelihood of observing data, after assuming a null hypothesis to be true. People often think or wish it told them the converse: the likelihood of a hypothesis’s truth, given some observed data. Always remember that a p-value should not be interpreted directly as a probability of a hypothesis being true. So, when we see that the p-value for comparing the heights of sample1 and sample3 is p = 0.008, we can’t say, “These samples have only a 0.8 percent probability of coming from the same population,” nor can we say, “The null hypothesis has a 0.8 percent probability of being true.” We can say only, “If the null hypothesis is true, something with 0.8 percent probability occurred.” This enables us to decide whether to reject the null hypothesis, but it doesn’t enable us to say exactly how likely either hypothesis is to be true.\n"
      ],
      "metadata": {
        "id": "ipNdXgvqzt9a"
      }
    },
    {
      "cell_type": "markdown",
      "source": [
        "Another important nuance is the difference between accepting a hypothesis\n",
        "and failing to reject it. Hypothesis testing has only two possible outcomes: either we reject a null hypothesis, or we decide not to reject the null hypothesis. Failing to reject something is not quite the same as wholeheartedly accepting it, and just because a p-value is not below a significance threshold does not mean that two groups are certainly the same. Just because one t-test fails to lead to a rejection of the null hypothesis does not mean that the null hypothesis is certainly true."
      ],
      "metadata": {
        "id": "C_4UCmBt0SZQ"
      }
    },
    {
      "cell_type": "markdown",
      "source": [
        "Similarly, just because one p-value seems to justify a rejection of a null\n",
        "hypothesis does not mean that the null hypothesis is certainly false. This is\n",
        "especially true when we have limited data; difficult, noisy measurements; or a\n",
        "reason to doubt our measurements. Hypothesis testing does not let us take\n",
        "uncertain data and have perfect certainty about hypotheses. Rather, it provides\n",
        "one piece of evidence that we have to understand properly and then weigh\n",
        "together with a great deal of other evidence.\n"
      ],
      "metadata": {
        "id": "2zfU-U6r0eMT"
      }
    },
    {
      "cell_type": "markdown",
      "source": [
        "Statistics has an analogous principle: all\n",
        "acceptances of the null hypothesis are alike, but each rejection of the null\n",
        "hypothesis happens for a different reason. The null hypothesis states that two\n",
        "samples are random draws from the same population. If we reject the null\n",
        "hypothesis, any one or more of a number of things could be true: our two\n",
        "samples could be random draws from different populations, or both could be\n",
        "samples from the same population but not randomly selected, or a source of\n",
        "sampling bias could be present, or blind luck might be occurring. Just because\n",
        "we are confident about rejecting the null hypothesis doesn’t mean we can be\n",
        "confident about which part of the null hypothesis is incorrect."
      ],
      "metadata": {
        "id": "P_7Fyjrj0z4E"
      }
    },
    {
      "cell_type": "markdown",
      "source": [
        "A final nuance to remember is the difference between statistical significance\n",
        "and practical significance. It’s possible for one sample of athletes to have mean\n",
        "height 73.11 and another sample of athletes to have mean height 73.12, and for\n",
        "these two means to have a statistically significant difference according to a t-test.\n",
        "We can justifiably conclude that these two groups are not random samples from\n",
        "the same population and treat them differently because of their different mean\n",
        "height. However, even if this difference of 0.01 inches is statistically significant,\n",
        "it’s not clear that this difference has practical significance. Members of these two\n",
        "groups should be able to wear the same clothes, sit on the same seats on\n",
        "airplanes, and reach the same high cupboards (on average). We have no reason to\n",
        "suppose that one group would be better than the other group at baseball in any\n",
        "practically important sense. In this case, we might wish to ignore the results of a\n",
        "t-test, since even though a statistically detectable difference exists, it’s not a\n",
        "difference that has any practical consequence. Practical significance is always an\n",
        "important thing to consider during the process of hypothesis testing.\n",
        "Now that we’ve discussed hypothesis testing and its thorny theoretical\n",
        "nuances, let’s turn to a practical business example.\n"
      ],
      "metadata": {
        "id": "__S4xZ6Q05Ge"
      }
    }
  ]
}